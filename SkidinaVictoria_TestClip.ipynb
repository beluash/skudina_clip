{
  "nbformat": 4,
  "nbformat_minor": 0,
  "metadata": {
    "kernelspec": {
      "name": "python3",
      "display_name": "Python 3"
    },
    "colab": {
      "name": "SkidinaVictoria_TestClip.ipynb",
      "provenance": [],
      "collapsed_sections": [],
      "include_colab_link": true
    },
    "accelerator": "GPU",
    "widgets": {
      "application/vnd.jupyter.widget-state+json": {
        "8387c2dfeeb440919e8d5db8fddf6710": {
          "model_module": "@jupyter-widgets/controls",
          "model_name": "HBoxModel",
          "state": {
            "_view_name": "HBoxView",
            "_dom_classes": [],
            "_model_name": "HBoxModel",
            "_view_module": "@jupyter-widgets/controls",
            "_model_module_version": "1.5.0",
            "_view_count": null,
            "_view_module_version": "1.5.0",
            "box_style": "",
            "layout": "IPY_MODEL_8f0898bc897f4ea6b87cc4cd4c9c90d9",
            "_model_module": "@jupyter-widgets/controls",
            "children": [
              "IPY_MODEL_0a11284093fc42cca1233ef0020fc0d1",
              "IPY_MODEL_c24e6854e0384c53b55f3e8aa62edd78"
            ]
          }
        },
        "8f0898bc897f4ea6b87cc4cd4c9c90d9": {
          "model_module": "@jupyter-widgets/base",
          "model_name": "LayoutModel",
          "state": {
            "_view_name": "LayoutView",
            "grid_template_rows": null,
            "right": null,
            "justify_content": null,
            "_view_module": "@jupyter-widgets/base",
            "overflow": null,
            "_model_module_version": "1.2.0",
            "_view_count": null,
            "flex_flow": null,
            "width": null,
            "min_width": null,
            "border": null,
            "align_items": null,
            "bottom": null,
            "_model_module": "@jupyter-widgets/base",
            "top": null,
            "grid_column": null,
            "overflow_y": null,
            "overflow_x": null,
            "grid_auto_flow": null,
            "grid_area": null,
            "grid_template_columns": null,
            "flex": null,
            "_model_name": "LayoutModel",
            "justify_items": null,
            "grid_row": null,
            "max_height": null,
            "align_content": null,
            "visibility": null,
            "align_self": null,
            "height": null,
            "min_height": null,
            "padding": null,
            "grid_auto_rows": null,
            "grid_gap": null,
            "max_width": null,
            "order": null,
            "_view_module_version": "1.2.0",
            "grid_template_areas": null,
            "object_position": null,
            "object_fit": null,
            "grid_auto_columns": null,
            "margin": null,
            "display": null,
            "left": null
          }
        },
        "0a11284093fc42cca1233ef0020fc0d1": {
          "model_module": "@jupyter-widgets/controls",
          "model_name": "FloatProgressModel",
          "state": {
            "_view_name": "ProgressView",
            "style": "IPY_MODEL_29af1d9cc24645d68855616aac5e20ad",
            "_dom_classes": [],
            "description": "100%",
            "_model_name": "FloatProgressModel",
            "bar_style": "success",
            "max": 86,
            "_view_module": "@jupyter-widgets/controls",
            "_model_module_version": "1.5.0",
            "value": 86,
            "_view_count": null,
            "_view_module_version": "1.5.0",
            "orientation": "horizontal",
            "min": 0,
            "description_tooltip": null,
            "_model_module": "@jupyter-widgets/controls",
            "layout": "IPY_MODEL_94f533e1966045d79e6dd7783d32d538"
          }
        },
        "c24e6854e0384c53b55f3e8aa62edd78": {
          "model_module": "@jupyter-widgets/controls",
          "model_name": "HTMLModel",
          "state": {
            "_view_name": "HTMLView",
            "style": "IPY_MODEL_8d0b35ba1eba451a8f0f1ed79c549135",
            "_dom_classes": [],
            "description": "",
            "_model_name": "HTMLModel",
            "placeholder": "​",
            "_view_module": "@jupyter-widgets/controls",
            "_model_module_version": "1.5.0",
            "value": " 86/86 [00:00&lt;00:00, 434.11it/s]",
            "_view_count": null,
            "_view_module_version": "1.5.0",
            "description_tooltip": null,
            "_model_module": "@jupyter-widgets/controls",
            "layout": "IPY_MODEL_59c9985cf14145cba413c884d0c9c905"
          }
        },
        "29af1d9cc24645d68855616aac5e20ad": {
          "model_module": "@jupyter-widgets/controls",
          "model_name": "ProgressStyleModel",
          "state": {
            "_view_name": "StyleView",
            "_model_name": "ProgressStyleModel",
            "description_width": "initial",
            "_view_module": "@jupyter-widgets/base",
            "_model_module_version": "1.5.0",
            "_view_count": null,
            "_view_module_version": "1.2.0",
            "bar_color": null,
            "_model_module": "@jupyter-widgets/controls"
          }
        },
        "94f533e1966045d79e6dd7783d32d538": {
          "model_module": "@jupyter-widgets/base",
          "model_name": "LayoutModel",
          "state": {
            "_view_name": "LayoutView",
            "grid_template_rows": null,
            "right": null,
            "justify_content": null,
            "_view_module": "@jupyter-widgets/base",
            "overflow": null,
            "_model_module_version": "1.2.0",
            "_view_count": null,
            "flex_flow": null,
            "width": null,
            "min_width": null,
            "border": null,
            "align_items": null,
            "bottom": null,
            "_model_module": "@jupyter-widgets/base",
            "top": null,
            "grid_column": null,
            "overflow_y": null,
            "overflow_x": null,
            "grid_auto_flow": null,
            "grid_area": null,
            "grid_template_columns": null,
            "flex": null,
            "_model_name": "LayoutModel",
            "justify_items": null,
            "grid_row": null,
            "max_height": null,
            "align_content": null,
            "visibility": null,
            "align_self": null,
            "height": null,
            "min_height": null,
            "padding": null,
            "grid_auto_rows": null,
            "grid_gap": null,
            "max_width": null,
            "order": null,
            "_view_module_version": "1.2.0",
            "grid_template_areas": null,
            "object_position": null,
            "object_fit": null,
            "grid_auto_columns": null,
            "margin": null,
            "display": null,
            "left": null
          }
        },
        "8d0b35ba1eba451a8f0f1ed79c549135": {
          "model_module": "@jupyter-widgets/controls",
          "model_name": "DescriptionStyleModel",
          "state": {
            "_view_name": "StyleView",
            "_model_name": "DescriptionStyleModel",
            "description_width": "",
            "_view_module": "@jupyter-widgets/base",
            "_model_module_version": "1.5.0",
            "_view_count": null,
            "_view_module_version": "1.2.0",
            "_model_module": "@jupyter-widgets/controls"
          }
        },
        "59c9985cf14145cba413c884d0c9c905": {
          "model_module": "@jupyter-widgets/base",
          "model_name": "LayoutModel",
          "state": {
            "_view_name": "LayoutView",
            "grid_template_rows": null,
            "right": null,
            "justify_content": null,
            "_view_module": "@jupyter-widgets/base",
            "overflow": null,
            "_model_module_version": "1.2.0",
            "_view_count": null,
            "flex_flow": null,
            "width": null,
            "min_width": null,
            "border": null,
            "align_items": null,
            "bottom": null,
            "_model_module": "@jupyter-widgets/base",
            "top": null,
            "grid_column": null,
            "overflow_y": null,
            "overflow_x": null,
            "grid_auto_flow": null,
            "grid_area": null,
            "grid_template_columns": null,
            "flex": null,
            "_model_name": "LayoutModel",
            "justify_items": null,
            "grid_row": null,
            "max_height": null,
            "align_content": null,
            "visibility": null,
            "align_self": null,
            "height": null,
            "min_height": null,
            "padding": null,
            "grid_auto_rows": null,
            "grid_gap": null,
            "max_width": null,
            "order": null,
            "_view_module_version": "1.2.0",
            "grid_template_areas": null,
            "object_position": null,
            "object_fit": null,
            "grid_auto_columns": null,
            "margin": null,
            "display": null,
            "left": null
          }
        },
        "f9979878ecda4823ac30aa0b0de7864a": {
          "model_module": "@jupyter-widgets/controls",
          "model_name": "HBoxModel",
          "state": {
            "_view_name": "HBoxView",
            "_dom_classes": [],
            "_model_name": "HBoxModel",
            "_view_module": "@jupyter-widgets/controls",
            "_model_module_version": "1.5.0",
            "_view_count": null,
            "_view_module_version": "1.5.0",
            "box_style": "",
            "layout": "IPY_MODEL_ea7f9f29b6a047908b36a8af0249baa6",
            "_model_module": "@jupyter-widgets/controls",
            "children": [
              "IPY_MODEL_e35351e7b974407fa35ba7db159c924a",
              "IPY_MODEL_28776fc64b07481ea6e4b216cb47d933"
            ]
          }
        },
        "ea7f9f29b6a047908b36a8af0249baa6": {
          "model_module": "@jupyter-widgets/base",
          "model_name": "LayoutModel",
          "state": {
            "_view_name": "LayoutView",
            "grid_template_rows": null,
            "right": null,
            "justify_content": null,
            "_view_module": "@jupyter-widgets/base",
            "overflow": null,
            "_model_module_version": "1.2.0",
            "_view_count": null,
            "flex_flow": null,
            "width": null,
            "min_width": null,
            "border": null,
            "align_items": null,
            "bottom": null,
            "_model_module": "@jupyter-widgets/base",
            "top": null,
            "grid_column": null,
            "overflow_y": null,
            "overflow_x": null,
            "grid_auto_flow": null,
            "grid_area": null,
            "grid_template_columns": null,
            "flex": null,
            "_model_name": "LayoutModel",
            "justify_items": null,
            "grid_row": null,
            "max_height": null,
            "align_content": null,
            "visibility": null,
            "align_self": null,
            "height": null,
            "min_height": null,
            "padding": null,
            "grid_auto_rows": null,
            "grid_gap": null,
            "max_width": null,
            "order": null,
            "_view_module_version": "1.2.0",
            "grid_template_areas": null,
            "object_position": null,
            "object_fit": null,
            "grid_auto_columns": null,
            "margin": null,
            "display": null,
            "left": null
          }
        },
        "e35351e7b974407fa35ba7db159c924a": {
          "model_module": "@jupyter-widgets/controls",
          "model_name": "FloatProgressModel",
          "state": {
            "_view_name": "ProgressView",
            "style": "IPY_MODEL_78d08ee5c50047c9aefddb0bd5c1efb6",
            "_dom_classes": [],
            "description": "100%",
            "_model_name": "FloatProgressModel",
            "bar_style": "success",
            "max": 6,
            "_view_module": "@jupyter-widgets/controls",
            "_model_module_version": "1.5.0",
            "value": 6,
            "_view_count": null,
            "_view_module_version": "1.5.0",
            "orientation": "horizontal",
            "min": 0,
            "description_tooltip": null,
            "_model_module": "@jupyter-widgets/controls",
            "layout": "IPY_MODEL_90284725611044968245b14ae49b7044"
          }
        },
        "28776fc64b07481ea6e4b216cb47d933": {
          "model_module": "@jupyter-widgets/controls",
          "model_name": "HTMLModel",
          "state": {
            "_view_name": "HTMLView",
            "style": "IPY_MODEL_0c1932b5a7094cbe9d6f0e47dc7b7bb2",
            "_dom_classes": [],
            "description": "",
            "_model_name": "HTMLModel",
            "placeholder": "​",
            "_view_module": "@jupyter-widgets/controls",
            "_model_module_version": "1.5.0",
            "value": " 6/6 [03:23&lt;00:00, 33.90s/it]",
            "_view_count": null,
            "_view_module_version": "1.5.0",
            "description_tooltip": null,
            "_model_module": "@jupyter-widgets/controls",
            "layout": "IPY_MODEL_08bdbf93d3514feaae1eba9e1c1ddb5b"
          }
        },
        "78d08ee5c50047c9aefddb0bd5c1efb6": {
          "model_module": "@jupyter-widgets/controls",
          "model_name": "ProgressStyleModel",
          "state": {
            "_view_name": "StyleView",
            "_model_name": "ProgressStyleModel",
            "description_width": "initial",
            "_view_module": "@jupyter-widgets/base",
            "_model_module_version": "1.5.0",
            "_view_count": null,
            "_view_module_version": "1.2.0",
            "bar_color": null,
            "_model_module": "@jupyter-widgets/controls"
          }
        },
        "90284725611044968245b14ae49b7044": {
          "model_module": "@jupyter-widgets/base",
          "model_name": "LayoutModel",
          "state": {
            "_view_name": "LayoutView",
            "grid_template_rows": null,
            "right": null,
            "justify_content": null,
            "_view_module": "@jupyter-widgets/base",
            "overflow": null,
            "_model_module_version": "1.2.0",
            "_view_count": null,
            "flex_flow": null,
            "width": null,
            "min_width": null,
            "border": null,
            "align_items": null,
            "bottom": null,
            "_model_module": "@jupyter-widgets/base",
            "top": null,
            "grid_column": null,
            "overflow_y": null,
            "overflow_x": null,
            "grid_auto_flow": null,
            "grid_area": null,
            "grid_template_columns": null,
            "flex": null,
            "_model_name": "LayoutModel",
            "justify_items": null,
            "grid_row": null,
            "max_height": null,
            "align_content": null,
            "visibility": null,
            "align_self": null,
            "height": null,
            "min_height": null,
            "padding": null,
            "grid_auto_rows": null,
            "grid_gap": null,
            "max_width": null,
            "order": null,
            "_view_module_version": "1.2.0",
            "grid_template_areas": null,
            "object_position": null,
            "object_fit": null,
            "grid_auto_columns": null,
            "margin": null,
            "display": null,
            "left": null
          }
        },
        "0c1932b5a7094cbe9d6f0e47dc7b7bb2": {
          "model_module": "@jupyter-widgets/controls",
          "model_name": "DescriptionStyleModel",
          "state": {
            "_view_name": "StyleView",
            "_model_name": "DescriptionStyleModel",
            "description_width": "",
            "_view_module": "@jupyter-widgets/base",
            "_model_module_version": "1.5.0",
            "_view_count": null,
            "_view_module_version": "1.2.0",
            "_model_module": "@jupyter-widgets/controls"
          }
        },
        "08bdbf93d3514feaae1eba9e1c1ddb5b": {
          "model_module": "@jupyter-widgets/base",
          "model_name": "LayoutModel",
          "state": {
            "_view_name": "LayoutView",
            "grid_template_rows": null,
            "right": null,
            "justify_content": null,
            "_view_module": "@jupyter-widgets/base",
            "overflow": null,
            "_model_module_version": "1.2.0",
            "_view_count": null,
            "flex_flow": null,
            "width": null,
            "min_width": null,
            "border": null,
            "align_items": null,
            "bottom": null,
            "_model_module": "@jupyter-widgets/base",
            "top": null,
            "grid_column": null,
            "overflow_y": null,
            "overflow_x": null,
            "grid_auto_flow": null,
            "grid_area": null,
            "grid_template_columns": null,
            "flex": null,
            "_model_name": "LayoutModel",
            "justify_items": null,
            "grid_row": null,
            "max_height": null,
            "align_content": null,
            "visibility": null,
            "align_self": null,
            "height": null,
            "min_height": null,
            "padding": null,
            "grid_auto_rows": null,
            "grid_gap": null,
            "max_width": null,
            "order": null,
            "_view_module_version": "1.2.0",
            "grid_template_areas": null,
            "object_position": null,
            "object_fit": null,
            "grid_auto_columns": null,
            "margin": null,
            "display": null,
            "left": null
          }
        }
      }
    }
  },
  "cells": [
    {
      "cell_type": "markdown",
      "metadata": {
        "id": "view-in-github",
        "colab_type": "text"
      },
      "source": [
        "<a href=\"https://colab.research.google.com/github/beluash/skudina_clip/blob/main/SkidinaVictoria_TestClip.ipynb\" target=\"_parent\"><img src=\"https://colab.research.google.com/assets/colab-badge.svg\" alt=\"Open In Colab\"/></a>"
      ]
    },
    {
      "cell_type": "code",
      "metadata": {
        "id": "bcyygIIZxRKe",
        "colab": {
          "base_uri": "https://localhost:8080/"
        },
        "outputId": "f9b31992-13fe-434a-fd0e-6a6c6c87c3af"
      },
      "source": [
        "import subprocess\n",
        "\n",
        "CUDA_version = [s for s in subprocess.check_output([\"nvcc\", \"--version\"]).decode(\"UTF-8\").split(\", \") if s.startswith(\"release\")][0].split(\" \")[-1]\n",
        "print(\"CUDA version:\", CUDA_version)\n",
        "\n",
        "if CUDA_version == \"10.0\":\n",
        "    torch_version_suffix = \"+cu100\"\n",
        "elif CUDA_version == \"10.1\":\n",
        "    torch_version_suffix = \"+cu101\"\n",
        "elif CUDA_version == \"10.2\":\n",
        "    torch_version_suffix = \"\"\n",
        "else:\n",
        "    torch_version_suffix = \"+cu110\""
      ],
      "execution_count": 1,
      "outputs": [
        {
          "output_type": "stream",
          "text": [
            "CUDA version: 11.0\n"
          ],
          "name": "stdout"
        }
      ]
    },
    {
      "cell_type": "code",
      "metadata": {
        "id": "ZzWU2WbqxcJd",
        "colab": {
          "base_uri": "https://localhost:8080/"
        },
        "outputId": "1cafec8e-85f9-485b-ecff-d7f91a5beab2"
      },
      "source": [
        "!pip install torch==1.7.1{torch_version_suffix} torchvision==0.8.2{torch_version_suffix} -f https://download.pytorch.org/whl/torch_stable.html ftfy regex\n",
        "!pip install ftfy tqdm regex\n",
        "!pip install ipyplot"
      ],
      "execution_count": 2,
      "outputs": [
        {
          "output_type": "stream",
          "text": [
            "Looking in links: https://download.pytorch.org/whl/torch_stable.html\n",
            "Collecting torch==1.7.1+cu110\n",
            "\u001b[?25l  Downloading https://download.pytorch.org/whl/cu110/torch-1.7.1%2Bcu110-cp37-cp37m-linux_x86_64.whl (1156.8MB)\n",
            "\u001b[K     |███████████████████████         | 834.1MB 1.3MB/s eta 0:04:08tcmalloc: large alloc 1147494400 bytes == 0x5626a44da000 @  0x7f61626e1615 0x56266a81d06c 0x56266a8fceba 0x56266a81fe8d 0x56266a91199d 0x56266a893fe9 0x56266a88eb0e 0x56266a82177a 0x56266a893e50 0x56266a88eb0e 0x56266a82177a 0x56266a89086a 0x56266a9127c6 0x56266a88fee2 0x56266a9127c6 0x56266a88fee2 0x56266a9127c6 0x56266a88fee2 0x56266a9127c6 0x56266a994431 0x56266a8f5049 0x56266a85fc84 0x56266a8208e9 0x56266a894ade 0x56266a82169a 0x56266a88fa45 0x56266a88ee0d 0x56266a82177a 0x56266a88fa45 0x56266a82169a 0x56266a88fa45\n",
            "\u001b[K     |█████████████████████████████▏  | 1055.7MB 1.2MB/s eta 0:01:22tcmalloc: large alloc 1434370048 bytes == 0x5626e8b30000 @  0x7f61626e1615 0x56266a81d06c 0x56266a8fceba 0x56266a81fe8d 0x56266a91199d 0x56266a893fe9 0x56266a88eb0e 0x56266a82177a 0x56266a893e50 0x56266a88eb0e 0x56266a82177a 0x56266a89086a 0x56266a9127c6 0x56266a88fee2 0x56266a9127c6 0x56266a88fee2 0x56266a9127c6 0x56266a88fee2 0x56266a9127c6 0x56266a994431 0x56266a8f5049 0x56266a85fc84 0x56266a8208e9 0x56266a894ade 0x56266a82169a 0x56266a88fa45 0x56266a88ee0d 0x56266a82177a 0x56266a88fa45 0x56266a82169a 0x56266a88fa45\n",
            "\u001b[K     |████████████████████████████████| 1156.7MB 1.2MB/s eta 0:00:01tcmalloc: large alloc 1445945344 bytes == 0x56273e31c000 @  0x7f61626e1615 0x56266a81d06c 0x56266a8fceba 0x56266a81fe8d 0x56266a91199d 0x56266a893fe9 0x56266a88eb0e 0x56266a82177a 0x56266a88fc9e 0x56266a88eb0e 0x56266a82177a 0x56266a88fc9e 0x56266a88eb0e 0x56266a82177a 0x56266a88fc9e 0x56266a88eb0e 0x56266a82177a 0x56266a88fc9e 0x56266a88eb0e 0x56266a82177a 0x56266a88fc9e 0x56266a82169a 0x56266a88fc9e 0x56266a88eb0e 0x56266a82177a 0x56266a89086a 0x56266a88eb0e 0x56266a82177a 0x56266a89086a 0x56266a88eb0e 0x56266a821e11\n",
            "\u001b[K     |████████████████████████████████| 1156.8MB 16kB/s \n",
            "\u001b[?25hCollecting torchvision==0.8.2+cu110\n",
            "\u001b[?25l  Downloading https://download.pytorch.org/whl/cu110/torchvision-0.8.2%2Bcu110-cp37-cp37m-linux_x86_64.whl (12.9MB)\n",
            "\u001b[K     |████████████████████████████████| 12.9MB 207kB/s \n",
            "\u001b[?25hCollecting ftfy\n",
            "\u001b[?25l  Downloading https://files.pythonhosted.org/packages/04/06/e5c80e2e0f979628d47345efba51f7ba386fe95963b11c594209085f5a9b/ftfy-5.9.tar.gz (66kB)\n",
            "\u001b[K     |████████████████████████████████| 71kB 5.2MB/s \n",
            "\u001b[?25hRequirement already satisfied: regex in /usr/local/lib/python3.7/dist-packages (2019.12.20)\n",
            "Requirement already satisfied: typing-extensions in /usr/local/lib/python3.7/dist-packages (from torch==1.7.1+cu110) (3.7.4.3)\n",
            "Requirement already satisfied: numpy in /usr/local/lib/python3.7/dist-packages (from torch==1.7.1+cu110) (1.19.5)\n",
            "Requirement already satisfied: pillow>=4.1.1 in /usr/local/lib/python3.7/dist-packages (from torchvision==0.8.2+cu110) (7.0.0)\n",
            "Requirement already satisfied: wcwidth in /usr/local/lib/python3.7/dist-packages (from ftfy) (0.2.5)\n",
            "Building wheels for collected packages: ftfy\n",
            "  Building wheel for ftfy (setup.py) ... \u001b[?25l\u001b[?25hdone\n",
            "  Created wheel for ftfy: filename=ftfy-5.9-cp37-none-any.whl size=46451 sha256=72e822259167dd6c36675af9476b255f0aad5c3bfa36f6e200970382561d1d72\n",
            "  Stored in directory: /root/.cache/pip/wheels/5e/2e/f0/b07196e8c929114998f0316894a61c752b63bfa3fdd50d2fc3\n",
            "Successfully built ftfy\n",
            "\u001b[31mERROR: torchtext 0.9.0 has requirement torch==1.8.0, but you'll have torch 1.7.1+cu110 which is incompatible.\u001b[0m\n",
            "Installing collected packages: torch, torchvision, ftfy\n",
            "  Found existing installation: torch 1.8.0+cu101\n",
            "    Uninstalling torch-1.8.0+cu101:\n",
            "      Successfully uninstalled torch-1.8.0+cu101\n",
            "  Found existing installation: torchvision 0.9.0+cu101\n",
            "    Uninstalling torchvision-0.9.0+cu101:\n",
            "      Successfully uninstalled torchvision-0.9.0+cu101\n",
            "Successfully installed ftfy-5.9 torch-1.7.1+cu110 torchvision-0.8.2+cu110\n",
            "Requirement already satisfied: ftfy in /usr/local/lib/python3.7/dist-packages (5.9)\n",
            "Requirement already satisfied: tqdm in /usr/local/lib/python3.7/dist-packages (4.41.1)\n",
            "Requirement already satisfied: regex in /usr/local/lib/python3.7/dist-packages (2019.12.20)\n",
            "Requirement already satisfied: wcwidth in /usr/local/lib/python3.7/dist-packages (from ftfy) (0.2.5)\n",
            "Collecting ipyplot\n",
            "  Downloading https://files.pythonhosted.org/packages/c8/2d/ba3031b6945e40ac1137ffb3931528bf4a76f36f0668b6c1879fadac070d/ipyplot-1.1.0-py3-none-any.whl\n",
            "Requirement already satisfied: IPython in /usr/local/lib/python3.7/dist-packages (from ipyplot) (5.5.0)\n",
            "Requirement already satisfied: pillow in /usr/local/lib/python3.7/dist-packages (from ipyplot) (7.0.0)\n",
            "Collecting shortuuid\n",
            "  Downloading https://files.pythonhosted.org/packages/25/a6/2ecc1daa6a304e7f1b216f0896b26156b78e7c38e1211e9b798b4716c53d/shortuuid-1.0.1-py3-none-any.whl\n",
            "Requirement already satisfied: numpy in /usr/local/lib/python3.7/dist-packages (from ipyplot) (1.19.5)\n",
            "Requirement already satisfied: traitlets>=4.2 in /usr/local/lib/python3.7/dist-packages (from IPython->ipyplot) (5.0.5)\n",
            "Requirement already satisfied: decorator in /usr/local/lib/python3.7/dist-packages (from IPython->ipyplot) (4.4.2)\n",
            "Requirement already satisfied: pexpect; sys_platform != \"win32\" in /usr/local/lib/python3.7/dist-packages (from IPython->ipyplot) (4.8.0)\n",
            "Requirement already satisfied: pygments in /usr/local/lib/python3.7/dist-packages (from IPython->ipyplot) (2.6.1)\n",
            "Requirement already satisfied: simplegeneric>0.8 in /usr/local/lib/python3.7/dist-packages (from IPython->ipyplot) (0.8.1)\n",
            "Requirement already satisfied: setuptools>=18.5 in /usr/local/lib/python3.7/dist-packages (from IPython->ipyplot) (54.0.0)\n",
            "Requirement already satisfied: prompt-toolkit<2.0.0,>=1.0.4 in /usr/local/lib/python3.7/dist-packages (from IPython->ipyplot) (1.0.18)\n",
            "Requirement already satisfied: pickleshare in /usr/local/lib/python3.7/dist-packages (from IPython->ipyplot) (0.7.5)\n",
            "Requirement already satisfied: ipython-genutils in /usr/local/lib/python3.7/dist-packages (from traitlets>=4.2->IPython->ipyplot) (0.2.0)\n",
            "Requirement already satisfied: ptyprocess>=0.5 in /usr/local/lib/python3.7/dist-packages (from pexpect; sys_platform != \"win32\"->IPython->ipyplot) (0.7.0)\n",
            "Requirement already satisfied: six>=1.9.0 in /usr/local/lib/python3.7/dist-packages (from prompt-toolkit<2.0.0,>=1.0.4->IPython->ipyplot) (1.15.0)\n",
            "Requirement already satisfied: wcwidth in /usr/local/lib/python3.7/dist-packages (from prompt-toolkit<2.0.0,>=1.0.4->IPython->ipyplot) (0.2.5)\n",
            "Installing collected packages: shortuuid, ipyplot\n",
            "Successfully installed ipyplot-1.1.0 shortuuid-1.0.1\n"
          ],
          "name": "stdout"
        }
      ]
    },
    {
      "cell_type": "code",
      "metadata": {
        "id": "Vxh5czHCFj80",
        "colab": {
          "base_uri": "https://localhost:8080/"
        },
        "outputId": "8547ca5d-7c5f-4e9e-afc4-b91cc166a143"
      },
      "source": [
        "!pip install flask==0.12.2\r\n",
        "!pip install flask-ngrok"
      ],
      "execution_count": 3,
      "outputs": [
        {
          "output_type": "stream",
          "text": [
            "Collecting flask==0.12.2\n",
            "\u001b[?25l  Downloading https://files.pythonhosted.org/packages/77/32/e3597cb19ffffe724ad4bf0beca4153419918e7fa4ba6a34b04ee4da3371/Flask-0.12.2-py2.py3-none-any.whl (83kB)\n",
            "\r\u001b[K     |████                            | 10kB 25.7MB/s eta 0:00:01\r\u001b[K     |████████                        | 20kB 26.4MB/s eta 0:00:01\r\u001b[K     |███████████▉                    | 30kB 19.0MB/s eta 0:00:01\r\u001b[K     |███████████████▉                | 40kB 22.4MB/s eta 0:00:01\r\u001b[K     |███████████████████▊            | 51kB 23.4MB/s eta 0:00:01\r\u001b[K     |███████████████████████▊        | 61kB 19.6MB/s eta 0:00:01\r\u001b[K     |███████████████████████████▋    | 71kB 17.9MB/s eta 0:00:01\r\u001b[K     |███████████████████████████████▋| 81kB 19.3MB/s eta 0:00:01\r\u001b[K     |████████████████████████████████| 92kB 9.1MB/s \n",
            "\u001b[?25hRequirement already satisfied: Jinja2>=2.4 in /usr/local/lib/python3.7/dist-packages (from flask==0.12.2) (2.11.3)\n",
            "Requirement already satisfied: click>=2.0 in /usr/local/lib/python3.7/dist-packages (from flask==0.12.2) (7.1.2)\n",
            "Requirement already satisfied: itsdangerous>=0.21 in /usr/local/lib/python3.7/dist-packages (from flask==0.12.2) (1.1.0)\n",
            "Requirement already satisfied: Werkzeug>=0.7 in /usr/local/lib/python3.7/dist-packages (from flask==0.12.2) (1.0.1)\n",
            "Requirement already satisfied: MarkupSafe>=0.23 in /usr/local/lib/python3.7/dist-packages (from Jinja2>=2.4->flask==0.12.2) (1.1.1)\n",
            "Installing collected packages: flask\n",
            "  Found existing installation: Flask 1.1.2\n",
            "    Uninstalling Flask-1.1.2:\n",
            "      Successfully uninstalled Flask-1.1.2\n",
            "Successfully installed flask-0.12.2\n",
            "Collecting flask-ngrok\n",
            "  Downloading https://files.pythonhosted.org/packages/af/6c/f54cb686ad1129e27d125d182f90f52b32f284e6c8df58c1bae54fa1adbc/flask_ngrok-0.0.25-py3-none-any.whl\n",
            "Requirement already satisfied: requests in /usr/local/lib/python3.7/dist-packages (from flask-ngrok) (2.23.0)\n",
            "Requirement already satisfied: Flask>=0.8 in /usr/local/lib/python3.7/dist-packages (from flask-ngrok) (0.12.2)\n",
            "Requirement already satisfied: idna<3,>=2.5 in /usr/local/lib/python3.7/dist-packages (from requests->flask-ngrok) (2.10)\n",
            "Requirement already satisfied: urllib3!=1.25.0,!=1.25.1,<1.26,>=1.21.1 in /usr/local/lib/python3.7/dist-packages (from requests->flask-ngrok) (1.24.3)\n",
            "Requirement already satisfied: chardet<4,>=3.0.2 in /usr/local/lib/python3.7/dist-packages (from requests->flask-ngrok) (3.0.4)\n",
            "Requirement already satisfied: certifi>=2017.4.17 in /usr/local/lib/python3.7/dist-packages (from requests->flask-ngrok) (2020.12.5)\n",
            "Requirement already satisfied: Werkzeug>=0.7 in /usr/local/lib/python3.7/dist-packages (from Flask>=0.8->flask-ngrok) (1.0.1)\n",
            "Requirement already satisfied: itsdangerous>=0.21 in /usr/local/lib/python3.7/dist-packages (from Flask>=0.8->flask-ngrok) (1.1.0)\n",
            "Requirement already satisfied: Jinja2>=2.4 in /usr/local/lib/python3.7/dist-packages (from Flask>=0.8->flask-ngrok) (2.11.3)\n",
            "Requirement already satisfied: click>=2.0 in /usr/local/lib/python3.7/dist-packages (from Flask>=0.8->flask-ngrok) (7.1.2)\n",
            "Requirement already satisfied: MarkupSafe>=0.23 in /usr/local/lib/python3.7/dist-packages (from Jinja2>=2.4->Flask>=0.8->flask-ngrok) (1.1.1)\n",
            "Installing collected packages: flask-ngrok\n",
            "Successfully installed flask-ngrok-0.0.25\n"
          ],
          "name": "stdout"
        }
      ]
    },
    {
      "cell_type": "code",
      "metadata": {
        "colab": {
          "base_uri": "https://localhost:8080/"
        },
        "id": "FTC6MmYzMSjV",
        "outputId": "08cb5958-1f68-4aae-e0c1-f6e46f1a8009"
      },
      "source": [
        "from google.colab import drive\r\n",
        "drive.mount(\"/content/drive\")"
      ],
      "execution_count": 4,
      "outputs": [
        {
          "output_type": "stream",
          "text": [
            "Mounted at /content/drive\n"
          ],
          "name": "stdout"
        }
      ]
    },
    {
      "cell_type": "markdown",
      "metadata": {
        "id": "cJJh_V9dZ8Ek"
      },
      "source": [
        "# Github"
      ]
    },
    {
      "cell_type": "code",
      "metadata": {
        "id": "TcuddEwH8jR9"
      },
      "source": [
        "#!git config --global user.email \"v.skudina@g.nsu.ru\"\r\n",
        "#!git config --global user.name \"Victoria Skudina\"\r\n",
        "#!git init Skudina_TestClip\r\n",
        "#%cd Skudina_TestClip\r\n",
        "#!ls -a\r\n",
        "#!git add .\r\n",
        "#!git branch -M main\r\n",
        "#!git commit -m \"First commit\"\r\n",
        "#!git branch -M main\r\n",
        "#!git remote add origin https://{f1cc5ec15edbb97943387b5ced95672d8a3f2396}@github.com/{beluash}/{Skudina_TestClip}.git\r\n",
        "#!git push -u origin main\r\n",
        "#!git push -u origin master\r\n",
        "#!git status"
      ],
      "execution_count": null,
      "outputs": []
    },
    {
      "cell_type": "markdown",
      "metadata": {
        "id": "PFm598B_CKmt"
      },
      "source": [
        "# HTML CSS for pages"
      ]
    },
    {
      "cell_type": "code",
      "metadata": {
        "id": "ZRKqZYTfCPTO"
      },
      "source": [
        "%cd /content/drive/MyDrive/Github/Skudina_TestClip/templates\r\n",
        "\r\n",
        "html = \"\"\"\r\n",
        " <!DOCTYPE html>\r\n",
        "<html>\r\n",
        "<head>\r\n",
        "    <title> Page </title>\r\n",
        "    <meta http-equiv=\"Content-type\" content=\"text/html\">\r\n",
        "</head>\r\n",
        "<body>\r\n",
        "    <form action=\"{{ url_for(\"page1\") }}\" method=\"post\">\r\n",
        "        <p><b>Hello!</b><br>\r\n",
        "        <p><b>Please enter a word to search: </b><br>\r\n",
        "        <input name = \"search_word\" type = 'text' autofocus placeholder = \"here\">\r\n",
        "\t<p><b>How many pictures? </b><br>\r\n",
        "\t<input name = \"pictures_amount\" type=\"number\" autofocus placeholder = \"here\" size=\"2\" min=\"1\" max=\"99\" value=\"1\">\r\n",
        "        <p> <input type = \"submit\" value = \"Send\"> </p>\r\n",
        "</form>\r\n",
        "</body>\r\n",
        "</html>\"\"\"\r\n",
        "\r\n",
        "with open(\"index.html\",\"a+\") as f:\r\n",
        "  f.write(html)\r\n",
        "\r\n",
        "html1 = \"\"\"\r\n",
        "<!DOCTYPE html>\r\n",
        "<html>\r\n",
        "<head>\r\n",
        "    <meta name=\"viewport\" content=\"width=device-width, initial-scale=1.0\">\r\n",
        "    <title>Page1</title>\r\n",
        "<style>\r\n",
        "* {\r\n",
        "  box-sizing: border-box;\r\n",
        "}\r\n",
        "\r\n",
        "body {\r\n",
        "  margin: 0;\r\n",
        "  font-family: Arial, Helvetica, sans-serif;\r\n",
        "}\r\n",
        "\r\n",
        ".header {\r\n",
        "  text-align: center;\r\n",
        "  padding: 32px;\r\n",
        "}\r\n",
        "\r\n",
        ".row {\r\n",
        "  display: -ms-flexbox; /* IE 10 */\r\n",
        "  display: flex;\r\n",
        "  -ms-flex-wrap: wrap; /* IE 10 */\r\n",
        "  flex-wrap: wrap;\r\n",
        "  padding: 0 4px;\r\n",
        "}\r\n",
        "\r\n",
        "/* Create two equal columns that sits next to each other */\r\n",
        ".column {\r\n",
        "  -ms-flex: 50%; /* IE 10 */\r\n",
        "  flex: 50%;\r\n",
        "  padding: 0 4px;\r\n",
        "}\r\n",
        "\r\n",
        ".column img {\r\n",
        "  margin-top: 8px;\r\n",
        "  vertical-align: middle;\r\n",
        "}\r\n",
        "\r\n",
        "/* Style the button */\r\n",
        ".btn {\r\n",
        "  border: none;\r\n",
        "  outline: none;\r\n",
        "  padding: 10px 16px;\r\n",
        "  background-color: #f1f1f1;\r\n",
        "  cursor: pointer;\r\n",
        "  font-size: 18px;\r\n",
        "}\r\n",
        "\r\n",
        ".btn:hover {\r\n",
        "  background-color: #ddd;\r\n",
        "}\r\n",
        "\r\n",
        ".btn.active {\r\n",
        "  background-color: #666;\r\n",
        "  color: white;\r\n",
        "}\r\n",
        "</style>\r\n",
        "</head>\r\n",
        "<body>\r\n",
        "    <div class=\"row\"> \r\n",
        "        <div class=\"column\">\r\n",
        "    {% for name in images %}\r\n",
        "    <img src=\"{{name}}\" style=\"width:30%\">\r\n",
        "  {% endfor %}\r\n",
        "  </div>\r\n",
        "</div>\r\n",
        "\r\n",
        "</body>\r\n",
        "</html>\"\"\"\r\n",
        "\r\n",
        "with open(\"page1.html\",\"a+\") as f1:\r\n",
        "  f1.write(html1)\r\n",
        "\r\n",
        "%cd /content/drive/MyDrive/Github/Skudina_TestClip/"
      ],
      "execution_count": null,
      "outputs": []
    },
    {
      "cell_type": "markdown",
      "metadata": {
        "id": "ywWD3CmWxKFu"
      },
      "source": [
        " # Imports"
      ]
    },
    {
      "cell_type": "markdown",
      "metadata": {
        "id": "4RvSwMGk_LIY"
      },
      "source": [
        "# Новый раздел"
      ]
    },
    {
      "cell_type": "code",
      "metadata": {
        "id": "VRDx-2GFxKFz",
        "colab": {
          "base_uri": "https://localhost:8080/"
        },
        "outputId": "59a379f2-603e-4667-a5b1-83af81ca6b6c"
      },
      "source": [
        "import torch\n",
        "from torchvision import transforms\n",
        "from tqdm.notebook import tqdm\n",
        "from pathlib import Path\n",
        "from PIL import Image\n",
        "import math\n",
        "import numpy as np\n",
        "import pandas as pd\n",
        "import os\n",
        "import sys\n",
        "from random import randint\n",
        "from IPython.display import display, Image as Img\n",
        "import ipyplot\n",
        "\n",
        "from flask_ngrok import run_with_ngrok\n",
        "from flask import Flask, render_template, session, request, redirect "
      ],
      "execution_count": 5,
      "outputs": [
        {
          "output_type": "stream",
          "text": [
            "\n",
            "        WARNING! Google Colab Environment detected!\n",
            "        You might encounter issues while running in Google Colab environment.\n",
            "        If images are not displaying properly please try setting `base_64` param to `True`.\n",
            "        \n"
          ],
          "name": "stdout"
        }
      ]
    },
    {
      "cell_type": "markdown",
      "metadata": {
        "id": "FVQDa_k8xKF1"
      },
      "source": [
        "# Clean dataset"
      ]
    },
    {
      "cell_type": "code",
      "metadata": {
        "id": "gjt3De2-xKF1",
        "colab": {
          "base_uri": "https://localhost:8080/"
        },
        "outputId": "5dca7060-b865-45ca-8a48-428968e02c52"
      },
      "source": [
        "data_cleaned = False\n",
        "\n",
        "os.makedirs(\"features\", exist_ok=True) \n",
        "cur_path = os.getcwd()\n",
        "\n",
        "# Set the path to the photos\n",
        "photos_path = Path(\"/content/drive/MyDrive/Github/Skudina_TestClip/static\") #/ \"photos\"\n",
        "\n",
        "# List all JPGs in the folder\n",
        "photos_files = list(photos_path.glob(\"*.jpg\"))\n",
        "\n",
        "features_path = Path(os.path.join(os. getcwd(),\"features\"))\n",
        "# Print some statistics\n",
        "print(f\"Photos found: {len(photos_files)}\")"
      ],
      "execution_count": 46,
      "outputs": [
        {
          "output_type": "stream",
          "text": [
            "Photos found: 86\n"
          ],
          "name": "stdout"
        }
      ]
    },
    {
      "cell_type": "code",
      "metadata": {
        "id": "IIHTSPmcxKF2",
        "colab": {
          "base_uri": "https://localhost:8080/",
          "height": 85,
          "referenced_widgets": [
            "8387c2dfeeb440919e8d5db8fddf6710",
            "8f0898bc897f4ea6b87cc4cd4c9c90d9",
            "0a11284093fc42cca1233ef0020fc0d1",
            "c24e6854e0384c53b55f3e8aa62edd78",
            "29af1d9cc24645d68855616aac5e20ad",
            "94f533e1966045d79e6dd7783d32d538",
            "8d0b35ba1eba451a8f0f1ed79c549135",
            "59c9985cf14145cba413c884d0c9c905"
          ]
        },
        "outputId": "0bd5d2e0-7fc9-4e78-e5e7-85fe8b205e3c"
      },
      "source": [
        "# # clean\n",
        "# check exif corrupt of not rgb\n",
        "\n",
        "if not data_cleaned:\n",
        "  for img in tqdm(photos_files):           \n",
        "      try:\n",
        "          image = Image.open(img)\n",
        "          exif_data = image._getexif()     \n",
        "          if image.mode != 'RGB':\n",
        "              try:\n",
        "                  os.remove(img) \n",
        "                  print(f\"corrupted image {img} deleted\")\n",
        "              except FileNotFoundError as e:\n",
        "                  print(sys.exc_info()[0])  \n",
        "                  \n",
        "      except:\n",
        "          print(sys.exc_info()[0])\n",
        "          try:\n",
        "              os.remove(img) \n",
        "              print(f\"corrupted image {img} deleted\")\n",
        "          except: \n",
        "            print(img,\"no image\")\n",
        "           \n",
        "  data_cleaned = True\n",
        "  print(\"dataset is cleaned\")"
      ],
      "execution_count": 47,
      "outputs": [
        {
          "output_type": "display_data",
          "data": {
            "application/vnd.jupyter.widget-view+json": {
              "model_id": "8387c2dfeeb440919e8d5db8fddf6710",
              "version_minor": 0,
              "version_major": 2
            },
            "text/plain": [
              "HBox(children=(FloatProgress(value=0.0, max=86.0), HTML(value='')))"
            ]
          },
          "metadata": {
            "tags": []
          }
        },
        {
          "output_type": "stream",
          "text": [
            "\n",
            "dataset is cleaned\n"
          ],
          "name": "stdout"
        }
      ]
    },
    {
      "cell_type": "markdown",
      "metadata": {
        "id": "WAnVUSrvxKF3"
      },
      "source": [
        "# CLIP\n"
      ]
    },
    {
      "cell_type": "code",
      "metadata": {
        "id": "BGmWWFvIxKF3",
        "colab": {
          "base_uri": "https://localhost:8080/"
        },
        "outputId": "7a34098e-f6ee-4bc0-d250-59a4e76fe452"
      },
      "source": [
        "!nvcc --version"
      ],
      "execution_count": 48,
      "outputs": [
        {
          "output_type": "stream",
          "text": [
            "nvcc: NVIDIA (R) Cuda compiler driver\n",
            "Copyright (c) 2005-2020 NVIDIA Corporation\n",
            "Built on Wed_Jul_22_19:09:09_PDT_2020\n",
            "Cuda compilation tools, release 11.0, V11.0.221\n",
            "Build cuda_11.0_bu.TC445_37.28845127_0\n"
          ],
          "name": "stdout"
        }
      ]
    },
    {
      "cell_type": "code",
      "metadata": {
        "id": "GR9cfVJLxKF3",
        "colab": {
          "base_uri": "https://localhost:8080/"
        },
        "outputId": "a2f192a9-4256-4ea2-fd8f-2430e926131b"
      },
      "source": [
        "#check drivers\n",
        "print(\"Is cuda available: \" ,torch.cuda.is_available())\n",
        "device = \"cuda\" if torch.cuda.is_available() else \"cpu\""
      ],
      "execution_count": 49,
      "outputs": [
        {
          "output_type": "stream",
          "text": [
            "Is cuda available:  True\n"
          ],
          "name": "stdout"
        }
      ]
    },
    {
      "cell_type": "code",
      "metadata": {
        "id": "iIPXRuC4FuSM",
        "colab": {
          "base_uri": "https://localhost:8080/"
        },
        "outputId": "3d2bcf69-7c47-4c4c-dccd-8e7f57307f7f"
      },
      "source": [
        "if not os.path.isfile(os.path.join(os. getcwd(),\"CLIP\")):\n",
        "  !git clone https://github.com/openai/CLIP.git\n",
        "%cd CLIP\n",
        "from clip import clip\n",
        "model, preprocess = clip.load(\"ViT-B/32\", device=device)\n",
        "os.chdir(\"/content\")"
      ],
      "execution_count": 50,
      "outputs": [
        {
          "output_type": "stream",
          "text": [
            "Cloning into 'CLIP'...\n",
            "remote: Enumerating objects: 74, done.\u001b[K\n",
            "remote: Total 74 (delta 0), reused 0 (delta 0), pack-reused 74\u001b[K\n",
            "Unpacking objects: 100% (74/74), done.\n",
            "/content/drive/My Drive/Github/Skudina_TestClip/templates/CLIP\n"
          ],
          "name": "stdout"
        }
      ]
    },
    {
      "cell_type": "code",
      "metadata": {
        "id": "AMlKjVSMzZ-V",
        "colab": {
          "base_uri": "https://localhost:8080/"
        },
        "outputId": "c77567b3-1ddc-485d-d841-fcf3d212d9af"
      },
      "source": [
        "is_fp16 = False\n",
        "if is_fp16:\n",
        "    model.to(device=device).eval().half()\n",
        "    print(\"fp16: Enabled\")\n",
        "else:\n",
        "    model.to(device=device).eval()#.float()\n",
        "\n",
        "\n",
        "input_resolution = model.input_resolution.item()\n",
        "context_length = model.context_length.item()\n",
        "vocab_size = model.vocab_size.item()\n",
        "\n",
        "print(\"Model parameters:\", f\"{np.sum([int(np.prod(p.shape)) for p in model.parameters()]):,}\")\n",
        "print(\"Input resolution:\", input_resolution)\n",
        "print(\"Context length:\", context_length)\n",
        "print(\"Vocab size:\", vocab_size)"
      ],
      "execution_count": 51,
      "outputs": [
        {
          "output_type": "stream",
          "text": [
            "Model parameters: 151,277,313\n",
            "Input resolution: 224\n",
            "Context length: 77\n",
            "Vocab size: 49408\n"
          ],
          "name": "stdout"
        }
      ]
    },
    {
      "cell_type": "markdown",
      "metadata": {
        "id": "7LAHJ1gUxKF4"
      },
      "source": [
        "# Preprocess "
      ]
    },
    {
      "cell_type": "code",
      "metadata": {
        "id": "hhg7Wi35xKF4"
      },
      "source": [
        "# Function that computes the feature vectors for a batch of images\n",
        "\n",
        "def compute_clip_features(photos_batch):\n",
        "    # Load all the photos from the files\n",
        "    photos = [Image.open(photo_file) for photo_file in photos_batch]\n",
        "    \n",
        "    # Preprocess all photos\n",
        "    photos_preprocessed = torch.stack([preprocess(photo) for photo in photos]).to(device)\n",
        "\n",
        "    with torch.no_grad():\n",
        "        # Encode the photos batch to compute the feature vectors and normalize them\n",
        "        photos_features = model.encode_image(photos_preprocessed)\n",
        "     \n",
        "        photos_features /= photos_features.norm(dim=-1, keepdim=True)\n",
        "        \n",
        "\n",
        "    # Transfer the feature vectors back to the CPU and convert to numpy\n",
        "    return photos_features.cpu().numpy()"
      ],
      "execution_count": 52,
      "outputs": []
    },
    {
      "cell_type": "code",
      "metadata": {
        "id": "C1U9R7kHxKF4",
        "colab": {
          "base_uri": "https://localhost:8080/",
          "height": 67,
          "referenced_widgets": [
            "f9979878ecda4823ac30aa0b0de7864a",
            "ea7f9f29b6a047908b36a8af0249baa6",
            "e35351e7b974407fa35ba7db159c924a",
            "28776fc64b07481ea6e4b216cb47d933",
            "78d08ee5c50047c9aefddb0bd5c1efb6",
            "90284725611044968245b14ae49b7044",
            "0c1932b5a7094cbe9d6f0e47dc7b7bb2",
            "08bdbf93d3514feaae1eba9e1c1ddb5b"
          ]
        },
        "outputId": "2648b1ee-0551-486c-ecec-72efff9470f6"
      },
      "source": [
        "# Make embeddings\n",
        "\n",
        "batch_size = 16\n",
        "batches = math.ceil(len(photos_files) / batch_size)\n",
        "\n",
        "# Process each batch\n",
        "for i in tqdm(range(batches)):\n",
        "    batch_ids_path = features_path / f\"{i:010d}.csv\"\n",
        "    batch_features_path = features_path / f\"{i:010d}.npy\"\n",
        "    batch_files = photos_files[i*batch_size : (i+1)*batch_size]\n",
        "    batch_features = compute_clip_features(batch_files)\n",
        "    np.save(batch_features_path, batch_features)\n",
        "    photo_ids = [photo_file for photo_file in batch_files]\n",
        "    photo_ids_data = pd.DataFrame(photo_ids, columns=['photo_id'])\n",
        "    photo_ids_data.to_csv(batch_ids_path, index=False)"
      ],
      "execution_count": 53,
      "outputs": [
        {
          "output_type": "display_data",
          "data": {
            "application/vnd.jupyter.widget-view+json": {
              "model_id": "f9979878ecda4823ac30aa0b0de7864a",
              "version_minor": 0,
              "version_major": 2
            },
            "text/plain": [
              "HBox(children=(FloatProgress(value=0.0, max=6.0), HTML(value='')))"
            ]
          },
          "metadata": {
            "tags": []
          }
        },
        {
          "output_type": "stream",
          "text": [
            "\n"
          ],
          "name": "stdout"
        }
      ]
    },
    {
      "cell_type": "code",
      "metadata": {
        "id": "9vNCCJTxxKF6",
        "colab": {
          "base_uri": "https://localhost:8080/"
        },
        "outputId": "7c330732-d28e-4719-86fa-b3ebe9258674"
      },
      "source": [
        "# Load all numpy files\n",
        "features_list = [np.load(features_file) for features_file in sorted(features_path.glob(\"*.npy\"))]\n",
        "\n",
        "# Concatenate the features and store in a merged file\n",
        "features = np.concatenate(features_list)\n",
        "np.save(features_path / \"features.npy\", features)\n",
        "\n",
        "# Load all the photo IDs\n",
        "photo_ids = pd.concat([pd.read_csv(ids_file) for ids_file in sorted(features_path.glob(\"*.csv\"))])\n",
        "photo_ids.to_csv(features_path / \"photo_ids.csv\", index=False)\n",
        "\n",
        "# Print some statistics\n",
        "print(f\"Photos loaded: {len(photo_ids)}\")\n",
        "\n",
        "def encode_search_query(search_query):\n",
        "  with torch.no_grad():\n",
        "    # Encode and normalize the search query using CLIP\n",
        "    text_encoded = model.encode_text(clip.tokenize(search_query).to(device))\n",
        "    text_encoded /= text_encoded.norm(dim=-1, keepdim=True)\n",
        "\n",
        "  # Retrieve the feature vector from the GPU and convert it to a numpy array\n",
        "  return text_encoded.cpu().numpy()\n",
        "\n",
        "def display_photo(photo_id):\n",
        "  display(Img(photo_id))\n",
        "  "
      ],
      "execution_count": 54,
      "outputs": [
        {
          "output_type": "stream",
          "text": [
            "Photos loaded: 86\n"
          ],
          "name": "stdout"
        }
      ]
    },
    {
      "cell_type": "code",
      "metadata": {
        "id": "2lyc6YJYe6PP"
      },
      "source": [
        "def find_best_matches(text_features, photo_features, photo_ids, results_count=3):\n",
        "  # Compute the similarity between the search query and each photo using the Cosine similarity\n",
        "  similarities = (photo_features @ text_features.T).squeeze(1)\n",
        "  scores = sorted(similarities,reverse=True)[:results_count]\n",
        "  best_photo_idx = np.argsort(similarities)[::-1]\n",
        "  # Return the photo IDs of the best matches\n",
        "  return [photo_ids['photo_id'].iloc[i] for i in best_photo_idx[:results_count]],scores"
      ],
      "execution_count": 55,
      "outputs": []
    },
    {
      "cell_type": "code",
      "metadata": {
        "id": "Zw28b4-rWuYK"
      },
      "source": [
        "def search_with_model(search_query, photo_features, photo_ids, results_count=3):\n",
        "  # Encode the search query\n",
        "  text_features = encode_search_query(search_query)\n",
        "\n",
        "  # Find the best matches\n",
        "  best_photo_ids, scores = find_best_matches(text_features, photo_features, photo_ids, results_count)\n",
        "  all_images = []\n",
        "  all_images_src = []\n",
        "  # Display the best photos\n",
        "  for photo_id in best_photo_ids:\n",
        "    # display_photo(photo_id)\n",
        "    image = Image.open(photo_id)\n",
        "    all_images.append(image)\n",
        "    all_images_src.append(os.path.join('/static/', os.path.basename(photo_id)))\n",
        "\n",
        "  ipyplot.plot_images(all_images,scores,max_images=results_count,img_width=150)\n",
        "  print(type(all_images_src))\n",
        "  return all_images_src"
      ],
      "execution_count": 65,
      "outputs": []
    },
    {
      "cell_type": "code",
      "metadata": {
        "id": "xrmfyYDlHYSD"
      },
      "source": [
        "photo_features = np.load(os.path.join(features_path,\"features.npy\"))"
      ],
      "execution_count": 57,
      "outputs": []
    },
    {
      "cell_type": "code",
      "metadata": {
        "id": "V-jfNLRUFFze"
      },
      "source": [
        "#окно браузера\r\n",
        "template_dir = os.path.abspath('/content/drive/MyDrive/Github/Skudina_TestClip/templates')\r\n",
        "app = Flask(__name__, template_folder = template_dir) \r\n",
        "run_with_ngrok(app)   #starts ngrok when the app is run\r\n",
        "\r\n",
        "@app.route('/', methods=['POST', 'GET'])\r\n",
        "def home():\r\n",
        "    return render_template('index.html')\r\n",
        "\r\n",
        "@app.route(\"/page1\", methods = ['POST'])\r\n",
        "def page1():\r\n",
        "    input = request.form['search_word']\r\n",
        "    number = int(request.form['pictures_amount'])\r\n",
        "    images = search_with_model(promt, photo_features, photo_ids, number)\r\n",
        "    print(images)\r\n",
        "    return render_template('page1.html', images = images)\r\n",
        "\r\n",
        "app.run()"
      ],
      "execution_count": null,
      "outputs": []
    },
    {
      "cell_type": "code",
      "metadata": {
        "scrolled": false,
        "id": "crt632W7xKF6"
      },
      "source": [
        "promt = \"sad\"\n",
        "number = 5\n",
        "search_with_model(promt, photo_features, photo_ids, number)"
      ],
      "execution_count": null,
      "outputs": []
    }
  ]
}